{
 "cells": [
  {
   "cell_type": "code",
   "execution_count": null,
   "id": "bbe20a87",
   "metadata": {},
   "outputs": [],
   "source": [
    "from flask import Flask, render_template, request, jsonify\n",
    "import pandas as pd\n",
    "import numpy as np\n",
    "from sklearn.tree import DecisionTreeClassifier\n",
    "import joblib"
   ]
  },
  {
   "cell_type": "code",
   "execution_count": null,
   "id": "8a75ee86",
   "metadata": {},
   "outputs": [],
   "source": [
    "app = Flask(__name__)"
   ]
  },
  {
   "cell_type": "code",
   "execution_count": null,
   "id": "6ab3c750",
   "metadata": {},
   "outputs": [],
   "source": [
    "# Load your fish dataset\n",
    "data = pd.read_csv('https://raw.githubusercontent.com/PARTHKPATIDAR/fish-prediction/main/Fish.csv')\n",
    "\n",
    "# Prepare the features and target\n",
    "X = data.drop(columns=['Species'])\n",
    "y = data['Species']"
   ]
  },
  {
   "cell_type": "code",
   "execution_count": null,
   "id": "635278c9",
   "metadata": {},
   "outputs": [],
   "source": [
    "# Initialize the Decision Tree classifier and fit the model on the entire dataset\n",
    "model = DecisionTreeClassifier()\n",
    "model.fit(X, y)"
   ]
  },
  {
   "cell_type": "code",
   "execution_count": null,
   "id": "975da48a",
   "metadata": {},
   "outputs": [],
   "source": [
    "# Save the model to a file\n",
    "joblib.dump(model, 'fish_species_model.pkl')\n",
    "\n",
    "@app.route('/')\n",
    "def index():\n",
    "    return render_template('index.html')\n",
    "\n",
    "@app.route('/predict', methods=['POST'])\n",
    "def predict():\n",
    "    # Get the parameters from the request's JSON body\n",
    "    data = request.json\n",
    "    weight = float(data['Weight'])\n",
    "    length1 = float(data['Length1'])\n",
    "    length2 = float(data['Length2'])\n",
    "    length3 = float(data['Length3'])\n",
    "    height = float(data['Height'])\n",
    "    width = float(data['Width'])\n",
    "\n",
    "    # Convert the parameters to a NumPy array for prediction\n",
    "    input_features = np.array([[weight, length1, length2, length3, height, width]])\n",
    "\n",
    "    # Make the prediction using the loaded model\n",
    "    species_id = model.predict(input_features)[0]\n",
    "\n",
    "    # Using generic species labels\n",
    "    species_label = f\"Species {species_id}\"\n",
    "\n",
    "    # Return the prediction as a JSON response\n",
    "    return jsonify({'species': species_label})\n",
    "\n",
    "if __name__ == '__main__':\n",
    "    app.run(debug=True)"
   ]
  }
 ],
 "metadata": {
  "kernelspec": {
   "display_name": "Python 3 (ipykernel)",
   "language": "python",
   "name": "python3"
  },
  "language_info": {
   "codemirror_mode": {
    "name": "ipython",
    "version": 3
   },
   "file_extension": ".py",
   "mimetype": "text/x-python",
   "name": "python",
   "nbconvert_exporter": "python",
   "pygments_lexer": "ipython3",
   "version": "3.9.13"
  }
 },
 "nbformat": 4,
 "nbformat_minor": 5
}
